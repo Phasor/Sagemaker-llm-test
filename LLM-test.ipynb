{
 "cells": [
  {
   "cell_type": "code",
   "execution_count": null,
   "id": "61452a13-83ed-4da6-b8a0-c9a04aa82c31",
   "metadata": {
    "tags": []
   },
   "outputs": [],
   "source": [
    "# follows https://youtu.be/A9Pu4xg-Nas\n",
    "# Run in the AWS SageMaker console\n",
    "!pip install --upgrade transformers einops accelerate bitsandbytes-cuda116"
   ]
  },
  {
   "cell_type": "code",
   "execution_count": null,
   "id": "a27752c7-f277-458e-91ee-d3083cd1152a",
   "metadata": {
    "tags": []
   },
   "outputs": [],
   "source": [
    "from transformers import AutoTokenizer, AutoModelForSeq2SeqLM\n",
    "from transformers import pipeline\n",
    "import torch\n",
    "import base64"
   ]
  },
  {
   "cell_type": "code",
   "execution_count": null,
   "id": "a501516f-1096-41fe-ad6d-3cca84efcaaf",
   "metadata": {
    "tags": []
   },
   "outputs": [],
   "source": [
    "checkpoint = \"MBZUAI/LaMini-T5-738M\""
   ]
  },
  {
   "cell_type": "code",
   "execution_count": null,
   "id": "60e6d408-7332-4c6e-b56c-541a13b6143b",
   "metadata": {
    "tags": []
   },
   "outputs": [],
   "source": [
    "tokenizer = AutoTokenizer.from_pretrained(checkpoint)\n",
    "base_model = AutoModelForSeq2SeqLM.from_pretrained(checkpoint, device_map=\"auto\",torch_dtype=torch.float32)"
   ]
  },
  {
   "cell_type": "code",
   "execution_count": null,
   "id": "9fc24601-6771-4514-b6f9-4d3899a97b6d",
   "metadata": {
    "tags": []
   },
   "outputs": [],
   "source": [
    "!pip install langchain"
   ]
  },
  {
   "cell_type": "code",
   "execution_count": null,
   "id": "bec7c35d-d5e2-46b3-ab08-c51c29db5dc6",
   "metadata": {
    "tags": []
   },
   "outputs": [],
   "source": [
    "from langchain.llms import HuggingFacePipeline"
   ]
  },
  {
   "cell_type": "code",
   "execution_count": null,
   "id": "557dff3d-b10c-41c6-a3b4-da248cdaa50d",
   "metadata": {
    "tags": []
   },
   "outputs": [],
   "source": [
    "def llm_pipeline():\n",
    "    pipe = pipeline(\n",
    "        'text2text-generation',\n",
    "        model = base_model,\n",
    "        tokenizer = tokenizer,\n",
    "        max_length = 256,\n",
    "        do_sample=True,\n",
    "        temperature = 0.3,\n",
    "        top_p = 0.95\n",
    "    )\n",
    "    local_llm = HuggingFacePipeline(pipeline=pipe)\n",
    "    return local_llm"
   ]
  },
  {
   "cell_type": "code",
   "execution_count": null,
   "id": "c3f88dc0-b309-4f61-a2b1-1aa980582e2a",
   "metadata": {
    "tags": []
   },
   "outputs": [],
   "source": [
    "input_prompt = \"write an ariticle on artificial intelligence\""
   ]
  },
  {
   "cell_type": "code",
   "execution_count": null,
   "id": "5f4f3129-cc00-453b-ac50-d3f8a82b1683",
   "metadata": {
    "tags": []
   },
   "outputs": [],
   "source": [
    "model = llm_pipeline()\n",
    "generated_text = model(input_prompt)\n",
    "generated_text"
   ]
  },
  {
   "cell_type": "code",
   "execution_count": null,
   "id": "39d46d88-1ab6-4e9b-9e50-518ba36a38ff",
   "metadata": {
    "tags": []
   },
   "outputs": [],
   "source": [
    "!pip uninstall -y sagemaker"
   ]
  },
  {
   "cell_type": "code",
   "execution_count": null,
   "id": "c16a5877-c18c-48f1-8867-ffff8cebe04a",
   "metadata": {
    "tags": []
   },
   "outputs": [],
   "source": [
    "!pip install --upgrade sagemaker"
   ]
  },
  {
   "cell_type": "code",
   "execution_count": null,
   "id": "ca4ff73d-89d6-4f65-a7ab-b7fdf90a6ddf",
   "metadata": {
    "tags": []
   },
   "outputs": [],
   "source": [
    "import json\n",
    "import sagemaker\n",
    "import boto3\n",
    "from sagemaker.huggingface import HuggingFaceModel, get_huggingface_llm_image_uri\n",
    "\n",
    "try:\n",
    "\trole = sagemaker.get_execution_role()\n",
    "except ValueError:\n",
    "\tiam = boto3.client('iam')\n",
    "\trole = iam.get_role(RoleName='sagemaker_execution_role')['Role']['Arn']\n",
    "\n",
    "# Hub Model configuration. https://huggingface.co/models\n",
    "hub = {\n",
    "\t'HF_MODEL_ID':'MBZUAI/LaMini-T5-738M',\n",
    "    'HF_TASK':'text2text-generation',\n",
    "    'device_map':'auto',\n",
    "    'torch_dtype':'torch.float32'\n",
    "}\n",
    "\n",
    "# create Hugging Face Model Class\n",
    "huggingface_model = HuggingFaceModel(\n",
    "\timage_uri=get_huggingface_llm_image_uri(\"huggingface\",version=\"0.8.2\"),\n",
    "\tenv=hub,\n",
    "\trole=role, \n",
    ")\n",
    "\n",
    "# deploy model to SageMaker Inference\n",
    "predictor = huggingface_model.deploy(\n",
    "\tinitial_instance_count=1,\n",
    "\tinstance_type=\"ml.g4dn.xlarge\",\n",
    "\tcontainer_startup_health_check_timeout=300,\n",
    "  )\n",
    "  \n",
    "# send request\n",
    "predictor.predict({\n",
    "\t\"inputs\": \"Write a short article on blockchain\",\n",
    "})"
   ]
  },
  {
   "cell_type": "code",
   "execution_count": null,
   "id": "27c2c2b1-d6f1-47f1-9ec7-7a9232fb0c80",
   "metadata": {
    "tags": []
   },
   "outputs": [],
   "source": [
    "prompt = \"Write a short article on blockchain.\"\n",
    "\n",
    "#hyperparams\n",
    "payload =  {\n",
    "    \"inputs\":prompt,\n",
    "    \"parameters\": {\n",
    "        \"do_sample\": True,\n",
    "        \"top_p\":0.7,\n",
    "        \"temperature\":0.3,\n",
    "        \"top_k\":50,\n",
    "        \"max_new_tokens\":512,\n",
    "        \"repetition_penalty\":1.03\n",
    "    }\n",
    "}\n",
    "#send request to end point\n",
    "response = predictor.predict(payload)\n",
    "print(response)"
   ]
  },
  {
   "cell_type": "code",
   "execution_count": null,
   "id": "57710750-b03c-47da-92fc-b8211016499c",
   "metadata": {
    "tags": []
   },
   "outputs": [],
   "source": [
    "ENDPOINT = \"huggingface-pytorch-tgi-inference-2023-07-24-07-42-27-365\""
   ]
  },
  {
   "cell_type": "code",
   "execution_count": null,
   "id": "82f6e903-bdfb-46db-b46e-1a30b69f790d",
   "metadata": {
    "tags": []
   },
   "outputs": [],
   "source": [
    "import boto3"
   ]
  },
  {
   "cell_type": "code",
   "execution_count": null,
   "id": "da3aeb82-094d-420a-9e10-dcf6da32b48b",
   "metadata": {
    "tags": []
   },
   "outputs": [],
   "source": [
    "runtime = boto3.client('runtime.sagemaker')"
   ]
  },
  {
   "cell_type": "code",
   "execution_count": null,
   "id": "f7330e76-1bc9-4385-bd74-24fd2ba0dc51",
   "metadata": {
    "tags": []
   },
   "outputs": [],
   "source": [
    "response = runtime.invoke_endpoint(EndpointName=ENDPOINT,ContentType=\"application/json\",Body=json.dumps(payload))"
   ]
  },
  {
   "cell_type": "code",
   "execution_count": null,
   "id": "f48b83cb-303f-4bfc-9d00-97d3c4eb3a0a",
   "metadata": {
    "tags": []
   },
   "outputs": [],
   "source": [
    "print(response)"
   ]
  },
  {
   "cell_type": "code",
   "execution_count": null,
   "id": "f1061526-c04d-4e66-9b00-bd7d9ae65775",
   "metadata": {
    "tags": []
   },
   "outputs": [],
   "source": [
    "prediction = json.loads(response['Body'].read().decode('utf-8'))"
   ]
  },
  {
   "cell_type": "code",
   "execution_count": null,
   "id": "b759d047-7a70-4062-9b64-881af831119a",
   "metadata": {
    "tags": []
   },
   "outputs": [],
   "source": [
    "print(prediction)"
   ]
  },
  {
   "cell_type": "code",
   "execution_count": null,
   "id": "33214daa-3506-483b-8567-77678f11087c",
   "metadata": {},
   "outputs": [],
   "source": []
  }
 ],
 "metadata": {
  "kernelspec": {
   "display_name": "conda_pytorch_p310",
   "language": "python",
   "name": "conda_pytorch_p310"
  },
  "language_info": {
   "codemirror_mode": {
    "name": "ipython",
    "version": 3
   },
   "file_extension": ".py",
   "mimetype": "text/x-python",
   "name": "python",
   "nbconvert_exporter": "python",
   "pygments_lexer": "ipython3",
   "version": "3.10.10"
  }
 },
 "nbformat": 4,
 "nbformat_minor": 5
}
